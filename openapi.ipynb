{
 "cells": [
  {
   "cell_type": "code",
   "execution_count": 4,
   "metadata": {},
   "outputs": [],
   "source": [
    "from __future__ import print_function\n",
    "import os.path\n",
    "import pymongo\n",
    "from google.auth.transport.requests import Request\n",
    "from google.oauth2.credentials import Credentials\n",
    "from google_auth_oauthlib.flow import InstalledAppFlow\n",
    "from googleapiclient.discovery import build\n",
    "from googleapiclient.errors import HttpError"
   ]
  },
  {
   "cell_type": "code",
   "execution_count": 7,
   "metadata": {},
   "outputs": [],
   "source": [
    "### google mail API\n",
    "\n",
    "def gmail_authentication():\n",
    "    SCOPES = ['https://mail.google.com/']\n",
    "    creds = None\n",
    "    if os.path.exists('token.json'):\n",
    "        creds = Credentials.from_authorized_user_file('token.json', SCOPES)\n",
    "    if not creds or not creds.valid:\n",
    "        if creds and creds.expired and creds.refresh_token:\n",
    "            creds.refresh(Request())\n",
    "        else:\n",
    "            flow = InstalledAppFlow.from_client_secrets_file('credentials.json', SCOPES)\n",
    "            creds = flow.run_local_server(port=0)\n",
    "        with open('token.json', 'w') as token:\n",
    "            token.write(creds.to_json())\n",
    "    return build('gmail', 'v1', credentials=creds)"
   ]
  },
  {
   "cell_type": "code",
<<<<<<< Updated upstream
   "execution_count": 13,
   "metadata": {},
   "outputs": [],
   "source": [
    "def get_mail_info():\n",
    "    try:\n",
    "        service = gmail_authentication()\n",
    "        messages_id = service.users().messages()\\\n",
    "            .list(userId='me', maxResults=10).execute()\n",
    "        \n",
    "        return service, messages_id\n",
    "    except Exception as e:\n",
    "        print(\"authentication failed\")\n",
    "        print(e)"
   ]
  },
  {
   "cell_type": "code",
   "execution_count": 14,
   "metadata": {},
   "outputs": [],
   "source": [
    "service, messages_id = get_mail_info()"
   ]
  },
  {
   "cell_type": "code",
   "execution_count": 15,
   "metadata": {},
   "outputs": [],
   "source": [
    "### edit form for mongodb\n",
    "def get_mail_data():\n",
    "    message_result = []\n",
    "    for message in messages_id['messages']:\n",
    "        msg = service.users().messages().get(userId='me', id=message['id']).execute()\n",
    "        tmp_dict = {\n",
    "            'id' : msg.get('id'),\n",
    "            'labelIds' : msg.get('labelIds'),\n",
    "            'snippet' : msg.get('snippet')\n",
    "        }\n",
    "        headers = msg['payload']['headers']\n",
    "        for item in headers:\n",
    "            tmp_dict['headers.'+item['name']] = item['value']\n",
    "        message_result.append(tmp_dict)\n",
    "\n",
    "    return message_result"
=======
   "execution_count": 8,
   "metadata": {},
   "outputs": [
    {
     "name": "stdout",
     "output_type": "stream",
     "text": [
      "Please visit this URL to authorize this application: https://accounts.google.com/o/oauth2/auth?response_type=code&client_id=126378803644-svaft2eml7uedd1lbl3hlm3vsm6op101.apps.googleusercontent.com&redirect_uri=http%3A%2F%2Flocalhost%3A50154%2F&scope=https%3A%2F%2Fmail.google.com%2F&state=tlQu2KzZmk1O4ieUGnKyK3Nnjc5I0o&access_type=offline\n"
     ]
    }
   ],
   "source": [
    "service = gmail_authentication()\n",
    "messages_id = service.users().messages()\\\n",
    "    .list(userId='me', maxResults=10).execute()"
>>>>>>> Stashed changes
   ]
  },
  {
   "cell_type": "code",
   "execution_count": 9,
   "metadata": {},
   "outputs": [
    {
     "data": {
      "text/plain": [
       "{'messages': [{'id': '186b57fba5777b17', 'threadId': '186b57fba5777b17'},\n",
       "  {'id': '186b56664f5fba1d', 'threadId': '186b56664f5fba1d'},\n",
       "  {'id': '186b48ef5b9c4e1b', 'threadId': '186b48ef5b9c4e1b'},\n",
       "  {'id': '186b478e453539e2', 'threadId': '186b478e453539e2'},\n",
       "  {'id': '186b4720b57bc0d1', 'threadId': '186b4720b57bc0d1'},\n",
       "  {'id': '186b46a3d7d39b41', 'threadId': '186b46a3d7d39b41'},\n",
       "  {'id': '186b41c3e8eb6a46', 'threadId': '186b41c3e8eb6a46'},\n",
       "  {'id': '186b407be5d9c906', 'threadId': '186b407be5d9c906'},\n",
       "  {'id': '186b3ef53f70f1c6', 'threadId': '186b3ef53f70f1c6'},\n",
       "  {'id': '186b3dc41f0f83b6', 'threadId': '186b3dc41f0f83b6'}],\n",
       " 'nextPageToken': '05734426631834386684',\n",
       " 'resultSizeEstimate': 201}"
      ]
     },
     "execution_count": 50,
     "metadata": {},
     "output_type": "execute_result"
    }
   ],
   "source": [
    "messages_id"
   ]
  },
  {
   "cell_type": "code",
<<<<<<< Updated upstream
   "execution_count": 49,
   "metadata": {},
   "outputs": [
    {
     "ename": "TypeError",
     "evalue": "Missing required parameter \"id\"",
     "output_type": "error",
     "traceback": [
      "\u001b[0;31m---------------------------------------------------------------------------\u001b[0m",
      "\u001b[0;31mTypeError\u001b[0m                                 Traceback (most recent call last)",
      "Cell \u001b[0;32mIn[49], line 1\u001b[0m\n\u001b[0;32m----> 1\u001b[0m service\u001b[39m.\u001b[39;49musers()\u001b[39m.\u001b[39;49mmessages()\u001b[39m.\u001b[39;49mget(userId\u001b[39m=\u001b[39;49m\u001b[39m'\u001b[39;49m\u001b[39mme\u001b[39;49m\u001b[39m'\u001b[39;49m)\u001b[39m.\u001b[39mexecute()\n",
      "File \u001b[0;32m/opt/homebrew/anaconda3/envs/airflow_env/lib/python3.9/site-packages/googleapiclient/discovery.py:972\u001b[0m, in \u001b[0;36mcreateMethod.<locals>.method\u001b[0;34m(self, **kwargs)\u001b[0m\n\u001b[1;32m    966\u001b[0m     \u001b[39mif\u001b[39;00m name \u001b[39mnot\u001b[39;00m \u001b[39min\u001b[39;00m kwargs:\n\u001b[1;32m    967\u001b[0m         \u001b[39m# temporary workaround for non-paging methods incorrectly requiring\u001b[39;00m\n\u001b[1;32m    968\u001b[0m         \u001b[39m# page token parameter (cf. drive.changes.watch vs. drive.changes.list)\u001b[39;00m\n\u001b[1;32m    969\u001b[0m         \u001b[39mif\u001b[39;00m name \u001b[39mnot\u001b[39;00m \u001b[39min\u001b[39;00m _PAGE_TOKEN_NAMES \u001b[39mor\u001b[39;00m _findPageTokenName(\n\u001b[1;32m    970\u001b[0m             _methodProperties(methodDesc, schema, \u001b[39m\"\u001b[39m\u001b[39mresponse\u001b[39m\u001b[39m\"\u001b[39m)\n\u001b[1;32m    971\u001b[0m         ):\n\u001b[0;32m--> 972\u001b[0m             \u001b[39mraise\u001b[39;00m \u001b[39mTypeError\u001b[39;00m(\u001b[39m'\u001b[39m\u001b[39mMissing required parameter \u001b[39m\u001b[39m\"\u001b[39m\u001b[39m%s\u001b[39;00m\u001b[39m\"\u001b[39m\u001b[39m'\u001b[39m \u001b[39m%\u001b[39m name)\n\u001b[1;32m    974\u001b[0m \u001b[39mfor\u001b[39;00m name, regex \u001b[39min\u001b[39;00m six\u001b[39m.\u001b[39miteritems(parameters\u001b[39m.\u001b[39mpattern_params):\n\u001b[1;32m    975\u001b[0m     \u001b[39mif\u001b[39;00m name \u001b[39min\u001b[39;00m kwargs:\n",
      "\u001b[0;31mTypeError\u001b[0m: Missing required parameter \"id\""
     ]
    }
   ],
   "source": [
    "## 날짜가 안변했으면 다 버려\n",
    "service.users().messages().get(userId='me', id=).execute()\n",
    "\n",
    "try : "
=======
   "execution_count": 11,
   "metadata": {},
   "outputs": [],
   "source": [
    "import pymongo"
>>>>>>> Stashed changes
   ]
  },
  {
   "cell_type": "code",
<<<<<<< Updated upstream
   "execution_count": 16,
=======
   "execution_count": null,
   "metadata": {},
   "outputs": [],
   "source": []
  },
  {
   "cell_type": "code",
   "execution_count": null,
>>>>>>> Stashed changes
   "metadata": {},
   "outputs": [],
   "source": [
    "message_result = get_mail_data()"
   ]
  },
  {
   "cell_type": "code",
   "execution_count": 44,
   "metadata": {},
   "outputs": [],
   "source": [
    "from sshtunnel import SSHTunnelForwarder\n",
    "\n",
    "class mongodb_tunnel:\n",
    "    def __init__(self, host, usr, passwd):\n",
    "        self.server = SSHTunnelForwarder(\n",
    "            host,\n",
    "            ssh_username=usr,\n",
    "            ssh_password=passwd,\n",
    "            remote_bind_address=('127.0.0.1', 27017)\n",
    "        )\n",
    "\n",
    "    def call_client(self):\n",
    "        client = pymongo.MongoClient(\n",
    "            host='127.0.0.1',\n",
    "            port=self.server.local_bind_port\n",
    "        )\n",
    "        return client\n",
    "    \n",
    "    def get_yesterday_email():\n",
    "        def gmail_authentication():\n",
    "            SCOPES = ['https://mail.google.com/']\n",
    "            creds = None\n",
    "            if os.path.exists('token.json'):\n",
    "                creds = Credentials.from_authorized_user_file('token.json', SCOPES)\n",
    "            if not creds or not creds.valid:\n",
    "                if creds and creds.expired and creds.refresh_token:\n",
    "                    creds.refresh(Request())\n",
    "                else:\n",
    "                    flow = InstalledAppFlow.from_client_secrets_file('credentials.json', SCOPES)\n",
    "                    creds = flow.run_local_server(port=0)\n",
    "                with open('token.json', 'w') as token:\n",
    "                    token.write(creds.to_json())\n",
    "            return build('gmail', 'v1', credentials=creds)\n",
    "        return None\n",
    "\n",
    "    def insert_many(self, db_name, collection_name, document_list):\n",
    "        self.server.start()\n",
    "        client = self.call_client()\n",
    "    \n",
    "        database = client[db_name]\n",
    "        collection = database[collection_name]\n",
    "        \n",
    "        try:\n",
    "            collection.insert_many(document_list)\n",
    "        except Exception as e:\n",
    "            print(\"Got an error inserting documents\")\n",
    "            print(e)\n",
    "        \n",
    "        client.close()\n",
    "        self.server.close()\n",
    "    \n",
    "    def drop_duplicates(self):\n",
    "        self.server.start()\n",
    "        client = pymongo.MongoClient(host='127.0.0.1', port=self.server.local_bind_port)\n",
    "        database = client['DE_Database']\n",
    "        collection = database['gmail_main']\n",
    "\n",
    "        pipeline = [\n",
    "            {\"$group\": {\"_id\": \"$id\", \"unique_id\": {\"$addToSet\": \"$_id\"}}},\n",
    "            {\"$out\": \"temp_collection\"}\n",
    "        ]\n",
    "        result = collection.aggregate(pipeline)\n",
    "        collection.drop()\n",
    "\n",
    "        database['temp_collection'].rename('gmail_main')\n",
    "        client.close()\n",
    "        self.server.close()\n",
    "\n",
    "\n"
   ]
  }
 ],
 "metadata": {
  "kernelspec": {
   "display_name": "airflow",
   "language": "python",
   "name": "python3"
  },
  "language_info": {
   "codemirror_mode": {
    "name": "ipython",
    "version": 3
   },
   "file_extension": ".py",
   "mimetype": "text/x-python",
   "name": "python",
   "nbconvert_exporter": "python",
   "pygments_lexer": "ipython3",
   "version": "3.9.16"
  },
  "orig_nbformat": 4,
  "vscode": {
   "interpreter": {
    "hash": "9e61d027e83e895cac62a46190213c617912da604cc0b0de0fa4a627ee7ae866"
   }
  }
 },
 "nbformat": 4,
 "nbformat_minor": 2
}
