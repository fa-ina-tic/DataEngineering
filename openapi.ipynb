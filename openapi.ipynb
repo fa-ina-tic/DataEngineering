{
 "cells": [
  {
   "cell_type": "code",
   "execution_count": 1,
   "metadata": {},
   "outputs": [],
   "source": [
    "from __future__ import print_function\n",
    "\n",
    "import os.path\n",
    "\n",
    "import pymongo\n",
    "\n",
    "from google.auth.transport.requests import Request\n",
    "from google.oauth2.credentials import Credentials\n",
    "from google_auth_oauthlib.flow import InstalledAppFlow\n",
    "from googleapiclient.discovery import build\n",
    "from googleapiclient.errors import HttpError"
   ]
  },
  {
   "cell_type": "code",
   "execution_count": 2,
   "metadata": {},
   "outputs": [],
   "source": [
    "### google mail API\n",
    "\n",
    "def gmail_authentication():\n",
    "    SCOPES = ['https://mail.google.com/']\n",
    "    creds = None\n",
    "    if os.path.exists('token.json'):\n",
    "        creds = Credentials.from_authorized_user_file('token.json', SCOPES)\n",
    "    if not creds or not creds.valid:\n",
    "        if creds and creds.expired and creds.refresh_token:\n",
    "            creds.refresh(Request())\n",
    "        else:\n",
    "            flow = InstalledAppFlow.from_client_secrets_file('credentials.json', SCOPES)\n",
    "            creds = flow.run_local_server(port=0)\n",
    "        with open('token.json', 'w') as token:\n",
    "            token.write(creds.to_json())\n",
    "    return build('gmail', 'v1', credentials=creds)"
   ]
  },
  {
   "cell_type": "code",
   "execution_count": 6,
   "metadata": {},
   "outputs": [
    {
     "ename": "RefreshError",
     "evalue": "('invalid_grant: Token has been expired or revoked.', {'error': 'invalid_grant', 'error_description': 'Token has been expired or revoked.'})",
     "output_type": "error",
     "traceback": [
      "\u001b[0;31m---------------------------------------------------------------------------\u001b[0m",
      "\u001b[0;31mRefreshError\u001b[0m                              Traceback (most recent call last)",
      "Cell \u001b[0;32mIn[6], line 2\u001b[0m\n\u001b[1;32m      1\u001b[0m service \u001b[39m=\u001b[39m build(\u001b[39m'\u001b[39m\u001b[39mgmail\u001b[39m\u001b[39m'\u001b[39m, \u001b[39m'\u001b[39m\u001b[39mv1\u001b[39m\u001b[39m'\u001b[39m, credentials\u001b[39m=\u001b[39mCredentials\u001b[39m.\u001b[39mfrom_authorized_user_file(\u001b[39m'\u001b[39m\u001b[39mtoken.json\u001b[39m\u001b[39m'\u001b[39m, [\u001b[39m'\u001b[39m\u001b[39mhttps://mail.google.com/\u001b[39m\u001b[39m'\u001b[39m]))\n\u001b[0;32m----> 2\u001b[0m messages_id \u001b[39m=\u001b[39m service\u001b[39m.\u001b[39;49musers()\u001b[39m.\u001b[39;49mmessages()\\\n\u001b[1;32m      3\u001b[0m     \u001b[39m.\u001b[39;49mlist(userId\u001b[39m=\u001b[39;49m\u001b[39m'\u001b[39;49m\u001b[39mme\u001b[39;49m\u001b[39m'\u001b[39;49m, maxResults\u001b[39m=\u001b[39;49m\u001b[39m10\u001b[39;49m)\u001b[39m.\u001b[39;49mexecute()\n",
      "File \u001b[0;32m~/opt/anaconda3/envs/airflow/lib/python3.9/site-packages/googleapiclient/_helpers.py:130\u001b[0m, in \u001b[0;36mpositional.<locals>.positional_decorator.<locals>.positional_wrapper\u001b[0;34m(*args, **kwargs)\u001b[0m\n\u001b[1;32m    128\u001b[0m     \u001b[39melif\u001b[39;00m positional_parameters_enforcement \u001b[39m==\u001b[39m POSITIONAL_WARNING:\n\u001b[1;32m    129\u001b[0m         logger\u001b[39m.\u001b[39mwarning(message)\n\u001b[0;32m--> 130\u001b[0m \u001b[39mreturn\u001b[39;00m wrapped(\u001b[39m*\u001b[39;49margs, \u001b[39m*\u001b[39;49m\u001b[39m*\u001b[39;49mkwargs)\n",
      "File \u001b[0;32m~/opt/anaconda3/envs/airflow/lib/python3.9/site-packages/googleapiclient/http.py:923\u001b[0m, in \u001b[0;36mHttpRequest.execute\u001b[0;34m(self, http, num_retries)\u001b[0m\n\u001b[1;32m    920\u001b[0m     \u001b[39mself\u001b[39m\u001b[39m.\u001b[39mheaders[\u001b[39m\"\u001b[39m\u001b[39mcontent-length\u001b[39m\u001b[39m\"\u001b[39m] \u001b[39m=\u001b[39m \u001b[39mstr\u001b[39m(\u001b[39mlen\u001b[39m(\u001b[39mself\u001b[39m\u001b[39m.\u001b[39mbody))\n\u001b[1;32m    922\u001b[0m \u001b[39m# Handle retries for server-side errors.\u001b[39;00m\n\u001b[0;32m--> 923\u001b[0m resp, content \u001b[39m=\u001b[39m _retry_request(\n\u001b[1;32m    924\u001b[0m     http,\n\u001b[1;32m    925\u001b[0m     num_retries,\n\u001b[1;32m    926\u001b[0m     \u001b[39m\"\u001b[39;49m\u001b[39mrequest\u001b[39;49m\u001b[39m\"\u001b[39;49m,\n\u001b[1;32m    927\u001b[0m     \u001b[39mself\u001b[39;49m\u001b[39m.\u001b[39;49m_sleep,\n\u001b[1;32m    928\u001b[0m     \u001b[39mself\u001b[39;49m\u001b[39m.\u001b[39;49m_rand,\n\u001b[1;32m    929\u001b[0m     \u001b[39mstr\u001b[39;49m(\u001b[39mself\u001b[39;49m\u001b[39m.\u001b[39;49muri),\n\u001b[1;32m    930\u001b[0m     method\u001b[39m=\u001b[39;49m\u001b[39mstr\u001b[39;49m(\u001b[39mself\u001b[39;49m\u001b[39m.\u001b[39;49mmethod),\n\u001b[1;32m    931\u001b[0m     body\u001b[39m=\u001b[39;49m\u001b[39mself\u001b[39;49m\u001b[39m.\u001b[39;49mbody,\n\u001b[1;32m    932\u001b[0m     headers\u001b[39m=\u001b[39;49m\u001b[39mself\u001b[39;49m\u001b[39m.\u001b[39;49mheaders,\n\u001b[1;32m    933\u001b[0m )\n\u001b[1;32m    935\u001b[0m \u001b[39mfor\u001b[39;00m callback \u001b[39min\u001b[39;00m \u001b[39mself\u001b[39m\u001b[39m.\u001b[39mresponse_callbacks:\n\u001b[1;32m    936\u001b[0m     callback(resp)\n",
      "File \u001b[0;32m~/opt/anaconda3/envs/airflow/lib/python3.9/site-packages/googleapiclient/http.py:191\u001b[0m, in \u001b[0;36m_retry_request\u001b[0;34m(http, num_retries, req_type, sleep, rand, uri, method, *args, **kwargs)\u001b[0m\n\u001b[1;32m    189\u001b[0m \u001b[39mtry\u001b[39;00m:\n\u001b[1;32m    190\u001b[0m     exception \u001b[39m=\u001b[39m \u001b[39mNone\u001b[39;00m\n\u001b[0;32m--> 191\u001b[0m     resp, content \u001b[39m=\u001b[39m http\u001b[39m.\u001b[39;49mrequest(uri, method, \u001b[39m*\u001b[39;49margs, \u001b[39m*\u001b[39;49m\u001b[39m*\u001b[39;49mkwargs)\n\u001b[1;32m    192\u001b[0m \u001b[39m# Retry on SSL errors and socket timeout errors.\u001b[39;00m\n\u001b[1;32m    193\u001b[0m \u001b[39mexcept\u001b[39;00m _ssl_SSLError \u001b[39mas\u001b[39;00m ssl_error:\n",
      "File \u001b[0;32m~/opt/anaconda3/envs/airflow/lib/python3.9/site-packages/google_auth_httplib2.py:209\u001b[0m, in \u001b[0;36mAuthorizedHttp.request\u001b[0;34m(self, uri, method, body, headers, redirections, connection_type, **kwargs)\u001b[0m\n\u001b[1;32m    205\u001b[0m \u001b[39m# Make a copy of the headers. They will be modified by the credentials\u001b[39;00m\n\u001b[1;32m    206\u001b[0m \u001b[39m# and we want to pass the original headers if we recurse.\u001b[39;00m\n\u001b[1;32m    207\u001b[0m request_headers \u001b[39m=\u001b[39m headers\u001b[39m.\u001b[39mcopy() \u001b[39mif\u001b[39;00m headers \u001b[39mis\u001b[39;00m \u001b[39mnot\u001b[39;00m \u001b[39mNone\u001b[39;00m \u001b[39melse\u001b[39;00m {}\n\u001b[0;32m--> 209\u001b[0m \u001b[39mself\u001b[39;49m\u001b[39m.\u001b[39;49mcredentials\u001b[39m.\u001b[39;49mbefore_request(\u001b[39mself\u001b[39;49m\u001b[39m.\u001b[39;49m_request, method, uri, request_headers)\n\u001b[1;32m    211\u001b[0m \u001b[39m# Check if the body is a file-like stream, and if so, save the body\u001b[39;00m\n\u001b[1;32m    212\u001b[0m \u001b[39m# stream position so that it can be restored in case of refresh.\u001b[39;00m\n\u001b[1;32m    213\u001b[0m body_stream_position \u001b[39m=\u001b[39m \u001b[39mNone\u001b[39;00m\n",
      "File \u001b[0;32m~/opt/anaconda3/envs/airflow/lib/python3.9/site-packages/google/auth/credentials.py:135\u001b[0m, in \u001b[0;36mCredentials.before_request\u001b[0;34m(self, request, method, url, headers)\u001b[0m\n\u001b[1;32m    131\u001b[0m \u001b[39m# pylint: disable=unused-argument\u001b[39;00m\n\u001b[1;32m    132\u001b[0m \u001b[39m# (Subclasses may use these arguments to ascertain information about\u001b[39;00m\n\u001b[1;32m    133\u001b[0m \u001b[39m# the http request.)\u001b[39;00m\n\u001b[1;32m    134\u001b[0m \u001b[39mif\u001b[39;00m \u001b[39mnot\u001b[39;00m \u001b[39mself\u001b[39m\u001b[39m.\u001b[39mvalid:\n\u001b[0;32m--> 135\u001b[0m     \u001b[39mself\u001b[39;49m\u001b[39m.\u001b[39;49mrefresh(request)\n\u001b[1;32m    136\u001b[0m \u001b[39mself\u001b[39m\u001b[39m.\u001b[39mapply(headers)\n",
      "File \u001b[0;32m~/opt/anaconda3/envs/airflow/lib/python3.9/site-packages/google/oauth2/credentials.py:335\u001b[0m, in \u001b[0;36mCredentials.refresh\u001b[0;34m(self, request)\u001b[0m\n\u001b[1;32m    317\u001b[0m \u001b[39mif\u001b[39;00m (\n\u001b[1;32m    318\u001b[0m     \u001b[39mself\u001b[39m\u001b[39m.\u001b[39m_refresh_token \u001b[39mis\u001b[39;00m \u001b[39mNone\u001b[39;00m\n\u001b[1;32m    319\u001b[0m     \u001b[39mor\u001b[39;00m \u001b[39mself\u001b[39m\u001b[39m.\u001b[39m_token_uri \u001b[39mis\u001b[39;00m \u001b[39mNone\u001b[39;00m\n\u001b[1;32m    320\u001b[0m     \u001b[39mor\u001b[39;00m \u001b[39mself\u001b[39m\u001b[39m.\u001b[39m_client_id \u001b[39mis\u001b[39;00m \u001b[39mNone\u001b[39;00m\n\u001b[1;32m    321\u001b[0m     \u001b[39mor\u001b[39;00m \u001b[39mself\u001b[39m\u001b[39m.\u001b[39m_client_secret \u001b[39mis\u001b[39;00m \u001b[39mNone\u001b[39;00m\n\u001b[1;32m    322\u001b[0m ):\n\u001b[1;32m    323\u001b[0m     \u001b[39mraise\u001b[39;00m exceptions\u001b[39m.\u001b[39mRefreshError(\n\u001b[1;32m    324\u001b[0m         \u001b[39m\"\u001b[39m\u001b[39mThe credentials do not contain the necessary fields need to \u001b[39m\u001b[39m\"\u001b[39m\n\u001b[1;32m    325\u001b[0m         \u001b[39m\"\u001b[39m\u001b[39mrefresh the access token. You must specify refresh_token, \u001b[39m\u001b[39m\"\u001b[39m\n\u001b[1;32m    326\u001b[0m         \u001b[39m\"\u001b[39m\u001b[39mtoken_uri, client_id, and client_secret.\u001b[39m\u001b[39m\"\u001b[39m\n\u001b[1;32m    327\u001b[0m     )\n\u001b[1;32m    329\u001b[0m (\n\u001b[1;32m    330\u001b[0m     access_token,\n\u001b[1;32m    331\u001b[0m     refresh_token,\n\u001b[1;32m    332\u001b[0m     expiry,\n\u001b[1;32m    333\u001b[0m     grant_response,\n\u001b[1;32m    334\u001b[0m     rapt_token,\n\u001b[0;32m--> 335\u001b[0m ) \u001b[39m=\u001b[39m reauth\u001b[39m.\u001b[39;49mrefresh_grant(\n\u001b[1;32m    336\u001b[0m     request,\n\u001b[1;32m    337\u001b[0m     \u001b[39mself\u001b[39;49m\u001b[39m.\u001b[39;49m_token_uri,\n\u001b[1;32m    338\u001b[0m     \u001b[39mself\u001b[39;49m\u001b[39m.\u001b[39;49m_refresh_token,\n\u001b[1;32m    339\u001b[0m     \u001b[39mself\u001b[39;49m\u001b[39m.\u001b[39;49m_client_id,\n\u001b[1;32m    340\u001b[0m     \u001b[39mself\u001b[39;49m\u001b[39m.\u001b[39;49m_client_secret,\n\u001b[1;32m    341\u001b[0m     scopes\u001b[39m=\u001b[39;49mscopes,\n\u001b[1;32m    342\u001b[0m     rapt_token\u001b[39m=\u001b[39;49m\u001b[39mself\u001b[39;49m\u001b[39m.\u001b[39;49m_rapt_token,\n\u001b[1;32m    343\u001b[0m     enable_reauth_refresh\u001b[39m=\u001b[39;49m\u001b[39mself\u001b[39;49m\u001b[39m.\u001b[39;49m_enable_reauth_refresh,\n\u001b[1;32m    344\u001b[0m )\n\u001b[1;32m    346\u001b[0m \u001b[39mself\u001b[39m\u001b[39m.\u001b[39mtoken \u001b[39m=\u001b[39m access_token\n\u001b[1;32m    347\u001b[0m \u001b[39mself\u001b[39m\u001b[39m.\u001b[39mexpiry \u001b[39m=\u001b[39m expiry\n",
      "File \u001b[0;32m~/opt/anaconda3/envs/airflow/lib/python3.9/site-packages/google/oauth2/reauth.py:349\u001b[0m, in \u001b[0;36mrefresh_grant\u001b[0;34m(request, token_uri, refresh_token, client_id, client_secret, scopes, rapt_token, enable_reauth_refresh)\u001b[0m\n\u001b[1;32m    342\u001b[0m     (\n\u001b[1;32m    343\u001b[0m         response_status_ok,\n\u001b[1;32m    344\u001b[0m         response_data,\n\u001b[1;32m    345\u001b[0m         retryable_error,\n\u001b[1;32m    346\u001b[0m     ) \u001b[39m=\u001b[39m _client\u001b[39m.\u001b[39m_token_endpoint_request_no_throw(request, token_uri, body)\n\u001b[1;32m    348\u001b[0m \u001b[39mif\u001b[39;00m \u001b[39mnot\u001b[39;00m response_status_ok:\n\u001b[0;32m--> 349\u001b[0m     _client\u001b[39m.\u001b[39;49m_handle_error_response(response_data, retryable_error)\n\u001b[1;32m    350\u001b[0m \u001b[39mreturn\u001b[39;00m _client\u001b[39m.\u001b[39m_handle_refresh_grant_response(response_data, refresh_token) \u001b[39m+\u001b[39m (\n\u001b[1;32m    351\u001b[0m     rapt_token,\n\u001b[1;32m    352\u001b[0m )\n",
      "File \u001b[0;32m~/opt/anaconda3/envs/airflow/lib/python3.9/site-packages/google/oauth2/_client.py:69\u001b[0m, in \u001b[0;36m_handle_error_response\u001b[0;34m(response_data, retryable_error)\u001b[0m\n\u001b[1;32m     66\u001b[0m \u001b[39mexcept\u001b[39;00m (\u001b[39mKeyError\u001b[39;00m, \u001b[39mValueError\u001b[39;00m):\n\u001b[1;32m     67\u001b[0m     error_details \u001b[39m=\u001b[39m json\u001b[39m.\u001b[39mdumps(response_data)\n\u001b[0;32m---> 69\u001b[0m \u001b[39mraise\u001b[39;00m exceptions\u001b[39m.\u001b[39mRefreshError(\n\u001b[1;32m     70\u001b[0m     error_details, response_data, retryable\u001b[39m=\u001b[39mretryable_error\n\u001b[1;32m     71\u001b[0m )\n",
      "\u001b[0;31mRefreshError\u001b[0m: ('invalid_grant: Token has been expired or revoked.', {'error': 'invalid_grant', 'error_description': 'Token has been expired or revoked.'})"
     ]
    }
   ],
   "source": [
    "service = build('gmail', 'v1', credentials=Credentials.from_authorized_user_file('token.json', ['https://mail.google.com/']))\n",
    "messages_id = service.users().messages()\\\n",
    "    .list(userId='me', maxResults=10).execute()"
   ]
  },
  {
   "cell_type": "code",
   "execution_count": 50,
   "metadata": {},
   "outputs": [],
   "source": [
    "### edit form for mongodb\n",
    "message_result = []\n",
    "for message in messages_id['messages']:\n",
    "    msg = service.users().messages().get(userId='me', id=message['id']).execute()\n",
    "    tmp_dict = {\n",
    "        'id' : msg.get('id'),\n",
    "        'threadId' : msg.get('threadId'),\n",
    "        'labelIds' : msg.get('labelIds'),\n",
    "        'snippet' : msg.get('snippet')\n",
    "    }\n",
    "    headers = msg['payload']['headers']\n",
    "    for item in headers:\n",
    "        tmp_dict['headers.'+item['name']] = item['value']\n",
    "    message_result.append(tmp_dict)    "
   ]
  },
  {
   "cell_type": "code",
   "execution_count": null,
   "metadata": {},
   "outputs": [],
   "source": [
    "from dataclasses import dataclass, field, asdict\n",
    "from datetime import datetime\n",
    "\n",
    "### this is for mysql store\n",
    "def get_time() -> datetime:\n",
    "    return f\"{datetime.now()}\"\n",
    "\n",
    "@dataclass(frozen=True)\n",
    "class mail_info:\n",
    "    subject:str = None\n",
    "    name:str = None\n",
    "    send_from:str = None\n",
    "    send_to:str = None\n",
    "    reply_to:str = None\n",
    "    date:str = field(default_factory=get_time)\n",
    "\n",
    "    dict = asdict"
   ]
  }
 ],
 "metadata": {
  "kernelspec": {
   "display_name": "airflow",
   "language": "python",
   "name": "python3"
  },
  "language_info": {
   "codemirror_mode": {
    "name": "ipython",
    "version": 3
   },
   "file_extension": ".py",
   "mimetype": "text/x-python",
   "name": "python",
   "nbconvert_exporter": "python",
   "pygments_lexer": "ipython3",
   "version": "3.9.16"
  },
  "orig_nbformat": 4,
  "vscode": {
   "interpreter": {
    "hash": "9e61d027e83e895cac62a46190213c617912da604cc0b0de0fa4a627ee7ae866"
   }
  }
 },
 "nbformat": 4,
 "nbformat_minor": 2
}
