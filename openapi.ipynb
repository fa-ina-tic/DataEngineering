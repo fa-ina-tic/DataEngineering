{
 "cells": [
  {
   "cell_type": "code",
   "execution_count": 1,
   "metadata": {},
   "outputs": [],
   "source": [
    "from __future__ import print_function\n",
    "import os.path\n",
    "import pymongo\n",
    "from google.auth.transport.requests import Request\n",
    "from google.oauth2.credentials import Credentials\n",
    "from google_auth_oauthlib.flow import InstalledAppFlow\n",
    "from googleapiclient.discovery import build\n",
    "from datetime import datetime, date, timedelta\n",
    "from sshtunnel import SSHTunnelForwarder"
   ]
  },
  {
   "cell_type": "code",
   "execution_count": 2,
   "metadata": {},
   "outputs": [],
   "source": [
    "class mongodb_tunnel:\n",
    "\n",
    "    def __init__(self, host, usr, passwd,\n",
    "                 host_address:str='127.0.0.1'):\n",
    "        \n",
    "        self.server = SSHTunnelForwarder(\n",
    "            host,\n",
    "            ssh_username=usr,\n",
    "            ssh_password=passwd,\n",
    "            remote_bind_address=('127.0.0.1', 27017)\n",
    "        )\n",
    "\n",
    "        self.server.start()\n",
    "\n",
    "        self.client = pymongo.MongoClient(\n",
    "            host=host_address,\n",
    "            port=self.server.local_bind_port\n",
    "        )\n",
    "        \n",
    "    def insert_many(self, db_name, collection_name, document_list):\n",
    "        try:\n",
    "            self.server.start()\n",
    "        except:\n",
    "            pass\n",
    "        \n",
    "        client = self.client\n",
    "    \n",
    "        database = client[db_name]\n",
    "        collection = database[collection_name]\n",
    "        \n",
    "        try:\n",
    "            collection.insert_many(document_list)\n",
    "            print(\"success\")\n",
    "        except Exception as e:\n",
    "            print(\"Got an error inserting documents\")\n",
    "            print(e)\n",
    "        \n",
    "        client.close()\n",
    "        self.server.close()"
   ]
  },
  {
   "cell_type": "code",
   "execution_count": 3,
   "metadata": {},
   "outputs": [],
   "source": [
    "def gmail_authentication(token_path:str='token.json', credentials_path:str='credentials.json'):\n",
    "    SCOPES = ['https://mail.google.com/']\n",
    "    creds = None\n",
    "    if os.path.exists(token_path):\n",
    "        creds = Credentials.from_authorized_user_file(token_path, SCOPES)\n",
    "    if not creds or not creds.valid:\n",
    "        if creds and creds.expired and creds.refresh_token:\n",
    "            creds.refresh(Request())\n",
    "        else:\n",
    "            flow = InstalledAppFlow.from_client_secrets_file(credentials_path, SCOPES)\n",
    "            creds = flow.run_local_server(port=0)\n",
    "        with open('token.json', 'w') as token:\n",
    "            token.write(creds.to_json())\n",
    "    return build('gmail', 'v1', credentials=creds)"
   ]
  },
  {
   "cell_type": "code",
   "execution_count": 42,
   "metadata": {},
   "outputs": [],
   "source": [
    "class gmail_info:\n",
    "    def __init__(self, service):\n",
    "        self.service = service\n",
    "    \n",
    "    def get_mail_id(self):\n",
    "        ### GMT +0900 기준(도쿄/서울 표준시)\n",
    "        # today_date = date.today()\n",
    "        # today = ((datetime.combine(today_date, datetime.min.time()))+ timedelta(hours=9))\n",
    "        # yesterday = today - timedelta(days=5)\n",
    "        # query = f\"before: {today.timestamp()} after: {yesterday.timestamp()}\"\n",
    "        query = f\"before: {today_date} after: {today_date - timedelta(days=1)}\"\n",
    "        try:\n",
    "            messages_id = self.service.users().messages().list(userId=\"me\", q=query, maxResults=None).execute()\n",
    "            return messages_id\n",
    "        except Exception as e:\n",
    "            print(\"authentication failed\")\n",
    "            print(e)\n",
    "\n",
    "    def get_message_info(self):\n",
    "        messages_id = self.get_mail_id()\n",
    "        if messages_id.get('resultSizeEstimate') == 0:\n",
    "            print(\"No update found\")\n",
    "            return None\n",
    "        \n",
    "        message_result = []\n",
    "        for message in messages_id['messages']:\n",
    "            try:\n",
    "                msg = self.service.users().messages().get(userId='me', id=message['id']).execute()\n",
    "                tmp_dict = {\n",
    "                    'id' : msg.get('id'),\n",
    "                    'labelIds' : msg.get('labelIds'),\n",
    "                    'snippet' : msg.get('snippet')\n",
    "                }\n",
    "                headers = msg['payload']['headers']\n",
    "                for item in headers:\n",
    "                    tmp_dict['headers.'+item['name']] = item['value']\n",
    "                message_result.append(tmp_dict)\n",
    "            \n",
    "            except Exception as e:\n",
    "                print(\"error in importing messages metadata\")\n",
    "                print(e)\n",
    "        return message_result\n",
    "        "
   ]
  },
  {
   "cell_type": "code",
   "execution_count": 43,
   "metadata": {},
   "outputs": [],
   "source": [
    "service = gmail_authentication()\n",
    "tmp = gmail_info(service)"
   ]
  },
  {
   "cell_type": "code",
   "execution_count": 45,
   "metadata": {},
   "outputs": [],
   "source": [
    "documents = tmp.get_message_info()"
   ]
  },
  {
   "cell_type": "code",
   "execution_count": 47,
   "metadata": {},
   "outputs": [],
   "source": [
    "host = None\n",
    "usr = None\n",
    "passwd = None\n",
    "\n",
    "tunnel = mongodb_tunnel(\n",
    "    host = host,\n",
    "    usr = usr,\n",
    "    passwd = passwd\n",
    ")"
   ]
  },
  {
   "cell_type": "code",
   "execution_count": 48,
   "metadata": {},
   "outputs": [],
   "source": [
    "db_name = None\n",
    "collection_name = None\n",
    "\n",
    "tunnel.insert_many(\n",
    "    db_name=db_name,\n",
    "    collection_name=collection_name,\n",
    "    document_list=documents\n",
    ")"
   ]
  }
 ],
 "metadata": {
  "kernelspec": {
   "display_name": "airflow",
   "language": "python",
   "name": "python3"
  },
  "language_info": {
   "codemirror_mode": {
    "name": "ipython",
    "version": 3
   },
   "file_extension": ".py",
   "mimetype": "text/x-python",
   "name": "python",
   "nbconvert_exporter": "python",
   "pygments_lexer": "ipython3",
   "version": "3.9.16"
  },
  "orig_nbformat": 4,
  "vscode": {
   "interpreter": {
    "hash": "9e61d027e83e895cac62a46190213c617912da604cc0b0de0fa4a627ee7ae866"
   }
  }
 },
 "nbformat": 4,
 "nbformat_minor": 2
}
